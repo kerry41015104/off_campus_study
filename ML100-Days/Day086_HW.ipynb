{
 "cells": [
  {
   "cell_type": "markdown",
   "metadata": {},
   "source": [
    "## Work\n",
    "1. 試比較 save_best_only 與否的差異\n",
    "2. 請僅存入將 save_weights_only 設定為 True, 並嘗試 reset ipynb 並將模型與權重重新建回並預測 x_test"
   ]
  },
  {
   "cell_type": "code",
   "execution_count": 1,
   "metadata": {},
   "outputs": [],
   "source": [
    "import os\n",
    "import keras\n",
    "\n",
    "# Disable GPU\n",
    "#os.environ[\"CUDA_VISIBLE_DEVICES\"] = \"\""
   ]
  },
  {
   "cell_type": "code",
   "execution_count": 2,
   "metadata": {},
   "outputs": [],
   "source": [
    "train, test = keras.datasets.cifar10.load_data()"
   ]
  },
  {
   "cell_type": "code",
   "execution_count": 3,
   "metadata": {},
   "outputs": [],
   "source": [
    "## 資料前處理\n",
    "def preproc_x(x, flatten=True):\n",
    "    x = x / 255.\n",
    "    if flatten:\n",
    "        x = x.reshape((len(x), -1))\n",
    "    return x\n",
    "\n",
    "def preproc_y(y, num_classes=10):\n",
    "    if y.shape[-1] == 1:\n",
    "        y = keras.utils.to_categorical(y, num_classes)\n",
    "    return y    "
   ]
  },
  {
   "cell_type": "code",
   "execution_count": 4,
   "metadata": {},
   "outputs": [],
   "source": [
    "x_train, y_train = train\n",
    "x_test, y_test = test\n",
    "\n",
    "# Preproc the inputs\n",
    "x_train = preproc_x(x_train)\n",
    "x_test = preproc_x(x_test)\n",
    "\n",
    "# Preprc the outputs\n",
    "y_train = preproc_y(y_train)\n",
    "y_test = preproc_y(y_test)"
   ]
  },
  {
   "cell_type": "code",
   "execution_count": 5,
   "metadata": {},
   "outputs": [],
   "source": [
    "from keras.layers import BatchNormalization\n",
    "def build_mlp(input_shape, output_units=10, num_neurons=[512, 256, 128]):\n",
    "    input_layer = keras.layers.Input(input_shape)\n",
    "    \n",
    "    for i, n_units in enumerate(num_neurons):\n",
    "        if i == 0:\n",
    "            x = keras.layers.Dense(units=n_units, \n",
    "                                   activation=\"relu\", \n",
    "                                   name=\"hidden_layer\"+str(i+1))(input_layer)\n",
    "            x = BatchNormalization()(x)\n",
    "        else:\n",
    "            x = keras.layers.Dense(units=n_units, \n",
    "                                   activation=\"relu\", \n",
    "                                   name=\"hidden_layer\"+str(i+1))(x)\n",
    "            x = BatchNormalization()(x)\n",
    "    \n",
    "    out = keras.layers.Dense(units=output_units, activation=\"softmax\", name=\"output\")(x)\n",
    "    \n",
    "    model = keras.models.Model(inputs=[input_layer], outputs=[out])\n",
    "    return model"
   ]
  },
  {
   "cell_type": "code",
   "execution_count": 6,
   "metadata": {},
   "outputs": [],
   "source": [
    "\"\"\"Code Here\n",
    "設定超參數\n",
    "\"\"\"\n",
    "LEARNING_RATE = 1e-3\n",
    "EPOCHS = 50\n",
    "BATCH_SIZE = 1024\n",
    "MOMENTUM = 0.95"
   ]
  },
  {
   "cell_type": "code",
   "execution_count": 7,
   "metadata": {
    "scrolled": true
   },
   "outputs": [
    {
     "name": "stdout",
     "output_type": "stream",
     "text": [
      "Model: \"model\"\n",
      "_________________________________________________________________\n",
      "Layer (type)                 Output Shape              Param #   \n",
      "=================================================================\n",
      "input_1 (InputLayer)         [(None, 3072)]            0         \n",
      "_________________________________________________________________\n",
      "hidden_layer1 (Dense)        (None, 512)               1573376   \n",
      "_________________________________________________________________\n",
      "batch_normalization (BatchNo (None, 512)               2048      \n",
      "_________________________________________________________________\n",
      "hidden_layer2 (Dense)        (None, 256)               131328    \n",
      "_________________________________________________________________\n",
      "batch_normalization_1 (Batch (None, 256)               1024      \n",
      "_________________________________________________________________\n",
      "hidden_layer3 (Dense)        (None, 128)               32896     \n",
      "_________________________________________________________________\n",
      "batch_normalization_2 (Batch (None, 128)               512       \n",
      "_________________________________________________________________\n",
      "output (Dense)               (None, 10)                1290      \n",
      "=================================================================\n",
      "Total params: 1,742,474\n",
      "Trainable params: 1,740,682\n",
      "Non-trainable params: 1,792\n",
      "_________________________________________________________________\n",
      "Epoch 1/50\n",
      "49/49 [==============================] - 5s 54ms/step - loss: 2.4939 - accuracy: 0.2084 - val_loss: 2.1140 - val_accuracy: 0.1972\n",
      "Epoch 2/50\n",
      "49/49 [==============================] - 1s 24ms/step - loss: 1.7790 - accuracy: 0.3821 - val_loss: 1.9550 - val_accuracy: 0.3105\n",
      "Epoch 3/50\n",
      "49/49 [==============================] - 1s 24ms/step - loss: 1.6439 - accuracy: 0.4289 - val_loss: 1.8304 - val_accuracy: 0.3664\n",
      "Epoch 4/50\n",
      "49/49 [==============================] - 1s 27ms/step - loss: 1.5582 - accuracy: 0.4562 - val_loss: 1.7316 - val_accuracy: 0.4028\n",
      "Epoch 5/50\n",
      "49/49 [==============================] - 1s 24ms/step - loss: 1.5135 - accuracy: 0.4690 - val_loss: 1.6529 - val_accuracy: 0.4280\n",
      "Epoch 6/50\n",
      "49/49 [==============================] - 1s 23ms/step - loss: 1.4589 - accuracy: 0.4917 - val_loss: 1.5848 - val_accuracy: 0.4435\n",
      "Epoch 7/50\n",
      "49/49 [==============================] - 1s 25ms/step - loss: 1.4164 - accuracy: 0.5052 - val_loss: 1.5696 - val_accuracy: 0.4504\n",
      "Epoch 8/50\n",
      "49/49 [==============================] - 1s 23ms/step - loss: 1.3747 - accuracy: 0.5218 - val_loss: 1.5266 - val_accuracy: 0.4634\n",
      "Epoch 9/50\n",
      "49/49 [==============================] - 1s 24ms/step - loss: 1.3444 - accuracy: 0.5334 - val_loss: 1.5126 - val_accuracy: 0.4666\n",
      "Epoch 10/50\n",
      "49/49 [==============================] - 1s 25ms/step - loss: 1.3140 - accuracy: 0.5455 - val_loss: 1.5045 - val_accuracy: 0.4686\n",
      "Epoch 11/50\n",
      "49/49 [==============================] - 1s 24ms/step - loss: 1.2988 - accuracy: 0.5481 - val_loss: 1.4931 - val_accuracy: 0.4754\n",
      "Epoch 12/50\n",
      "49/49 [==============================] - 1s 24ms/step - loss: 1.2619 - accuracy: 0.5628 - val_loss: 1.4806 - val_accuracy: 0.4758\n",
      "Epoch 13/50\n",
      "49/49 [==============================] - 1s 24ms/step - loss: 1.2390 - accuracy: 0.5722 - val_loss: 1.4753 - val_accuracy: 0.4826\n",
      "Epoch 14/50\n",
      "49/49 [==============================] - 1s 26ms/step - loss: 1.2036 - accuracy: 0.5845 - val_loss: 1.4826 - val_accuracy: 0.4789\n",
      "Epoch 15/50\n",
      "49/49 [==============================] - 1s 22ms/step - loss: 1.1804 - accuracy: 0.5918 - val_loss: 1.4623 - val_accuracy: 0.4867\n",
      "Epoch 16/50\n",
      "49/49 [==============================] - 1s 25ms/step - loss: 1.1567 - accuracy: 0.6025 - val_loss: 1.4622 - val_accuracy: 0.4879\n",
      "Epoch 17/50\n",
      "49/49 [==============================] - 1s 24ms/step - loss: 1.1339 - accuracy: 0.6124 - val_loss: 1.4549 - val_accuracy: 0.4922\n",
      "Epoch 18/50\n",
      "49/49 [==============================] - 1s 25ms/step - loss: 1.1141 - accuracy: 0.6195 - val_loss: 1.4689 - val_accuracy: 0.4847\n",
      "Epoch 19/50\n",
      "49/49 [==============================] - 1s 25ms/step - loss: 1.0915 - accuracy: 0.6288 - val_loss: 1.4658 - val_accuracy: 0.4912\n",
      "Epoch 20/50\n",
      "49/49 [==============================] - 1s 27ms/step - loss: 1.0739 - accuracy: 0.6346 - val_loss: 1.4604 - val_accuracy: 0.4941\n",
      "Epoch 21/50\n",
      "49/49 [==============================] - 1s 25ms/step - loss: 1.0456 - accuracy: 0.6464 - val_loss: 1.4645 - val_accuracy: 0.4877\n",
      "Epoch 22/50\n",
      "49/49 [==============================] - 1s 26ms/step - loss: 1.0306 - accuracy: 0.6500 - val_loss: 1.4645 - val_accuracy: 0.4926\n",
      "Epoch 23/50\n",
      "49/49 [==============================] - 1s 25ms/step - loss: 1.0036 - accuracy: 0.6604 - val_loss: 1.4541 - val_accuracy: 0.4957\n",
      "Epoch 24/50\n",
      "49/49 [==============================] - 1s 26ms/step - loss: 0.9825 - accuracy: 0.6702 - val_loss: 1.4602 - val_accuracy: 0.4978\n",
      "Epoch 25/50\n",
      "49/49 [==============================] - 1s 28ms/step - loss: 0.9580 - accuracy: 0.6793 - val_loss: 1.4601 - val_accuracy: 0.4980\n",
      "Epoch 26/50\n",
      "49/49 [==============================] - 1s 27ms/step - loss: 0.9465 - accuracy: 0.6853 - val_loss: 1.4665 - val_accuracy: 0.4958\n",
      "Epoch 27/50\n",
      "49/49 [==============================] - 1s 27ms/step - loss: 0.9251 - accuracy: 0.6930 - val_loss: 1.4826 - val_accuracy: 0.4999\n",
      "Epoch 28/50\n",
      "49/49 [==============================] - 1s 26ms/step - loss: 0.8900 - accuracy: 0.7035 - val_loss: 1.4816 - val_accuracy: 0.4972\n",
      "Epoch 29/50\n",
      "49/49 [==============================] - 1s 27ms/step - loss: 0.8780 - accuracy: 0.7119 - val_loss: 1.4826 - val_accuracy: 0.4967\n",
      "Epoch 30/50\n",
      "49/49 [==============================] - 1s 26ms/step - loss: 0.8668 - accuracy: 0.7118 - val_loss: 1.5030 - val_accuracy: 0.4899\n",
      "Epoch 31/50\n",
      "49/49 [==============================] - 1s 26ms/step - loss: 0.8427 - accuracy: 0.7277 - val_loss: 1.5034 - val_accuracy: 0.4904\n",
      "Epoch 32/50\n",
      "49/49 [==============================] - 1s 25ms/step - loss: 0.8273 - accuracy: 0.7311 - val_loss: 1.5032 - val_accuracy: 0.4929\n",
      "Epoch 33/50\n",
      "49/49 [==============================] - 1s 24ms/step - loss: 0.7995 - accuracy: 0.7396 - val_loss: 1.5016 - val_accuracy: 0.4968\n",
      "Epoch 34/50\n",
      "49/49 [==============================] - 1s 23ms/step - loss: 0.7843 - accuracy: 0.7463 - val_loss: 1.5092 - val_accuracy: 0.4993\n",
      "Epoch 35/50\n",
      "49/49 [==============================] - 1s 23ms/step - loss: 0.7608 - accuracy: 0.7569 - val_loss: 1.5350 - val_accuracy: 0.4939\n",
      "Epoch 36/50\n",
      "49/49 [==============================] - 1s 23ms/step - loss: 0.7388 - accuracy: 0.7654 - val_loss: 1.5263 - val_accuracy: 0.4979\n",
      "Epoch 37/50\n",
      "49/49 [==============================] - 1s 23ms/step - loss: 0.7214 - accuracy: 0.7700 - val_loss: 1.5301 - val_accuracy: 0.4987\n",
      "Epoch 38/50\n",
      "49/49 [==============================] - 1s 23ms/step - loss: 0.7052 - accuracy: 0.7791 - val_loss: 1.5376 - val_accuracy: 0.4994\n",
      "Epoch 39/50\n",
      "49/49 [==============================] - 1s 24ms/step - loss: 0.6872 - accuracy: 0.7873 - val_loss: 1.5329 - val_accuracy: 0.4999\n",
      "Epoch 40/50\n",
      "49/49 [==============================] - 1s 23ms/step - loss: 0.6677 - accuracy: 0.7943 - val_loss: 1.5745 - val_accuracy: 0.4920\n",
      "Epoch 41/50\n",
      "49/49 [==============================] - 1s 24ms/step - loss: 0.6521 - accuracy: 0.7993 - val_loss: 1.5684 - val_accuracy: 0.4983\n",
      "Epoch 42/50\n",
      "49/49 [==============================] - 1s 25ms/step - loss: 0.6284 - accuracy: 0.8097 - val_loss: 1.5698 - val_accuracy: 0.4935\n",
      "Epoch 43/50\n",
      "49/49 [==============================] - 1s 25ms/step - loss: 0.6141 - accuracy: 0.8148 - val_loss: 1.6018 - val_accuracy: 0.4947\n",
      "Epoch 44/50\n",
      "49/49 [==============================] - 1s 25ms/step - loss: 0.5932 - accuracy: 0.8251 - val_loss: 1.6194 - val_accuracy: 0.4911\n",
      "Epoch 45/50\n",
      "49/49 [==============================] - 1s 27ms/step - loss: 0.5798 - accuracy: 0.8283 - val_loss: 1.6108 - val_accuracy: 0.4953\n",
      "Epoch 46/50\n",
      "49/49 [==============================] - 1s 25ms/step - loss: 0.5608 - accuracy: 0.8365 - val_loss: 1.6141 - val_accuracy: 0.4930\n",
      "Epoch 47/50\n",
      "49/49 [==============================] - 1s 24ms/step - loss: 0.5418 - accuracy: 0.8426 - val_loss: 1.6538 - val_accuracy: 0.4899\n",
      "Epoch 48/50\n",
      "49/49 [==============================] - 1s 24ms/step - loss: 0.5326 - accuracy: 0.8475 - val_loss: 1.6696 - val_accuracy: 0.4876\n",
      "Epoch 49/50\n",
      "49/49 [==============================] - 1s 23ms/step - loss: 0.5119 - accuracy: 0.8559 - val_loss: 1.6729 - val_accuracy: 0.4872\n",
      "Epoch 50/50\n",
      "49/49 [==============================] - 1s 23ms/step - loss: 0.4942 - accuracy: 0.8626 - val_loss: 1.6672 - val_accuracy: 0.4942\n"
     ]
    }
   ],
   "source": [
    "# 載入 Callbacks\n",
    "\"\"\"Code Here\n",
    "設定 callbacks: model checkpoint\n",
    "\"\"\"\n",
    "from keras.callbacks import ModelCheckpoint\n",
    "\n",
    "model_ckpt = ModelCheckpoint(filepath=\"./tmp.h5\", \n",
    "                             monitor=\"val_loss\", \n",
    "                             save_best_only=True)\n",
    "\n",
    "results = {}\n",
    "\"\"\"Code Here\n",
    "撰寫你的訓練流程並將結果用 dictionary 紀錄\n",
    "\"\"\"\n",
    "model = build_mlp(input_shape=x_train.shape[1:])\n",
    "model.summary()\n",
    "optimizer = keras.optimizers.SGD(lr=LEARNING_RATE, nesterov=True, momentum=MOMENTUM)\n",
    "model.compile(loss=\"categorical_crossentropy\", metrics=[\"accuracy\"], optimizer=optimizer)\n",
    "\n",
    "model.fit(x_train, y_train, \n",
    "          epochs=EPOCHS, \n",
    "          batch_size=BATCH_SIZE, \n",
    "          validation_data=(x_test, y_test), \n",
    "          shuffle=True,\n",
    "          callbacks=[model_ckpt]\n",
    "         )\n",
    "model.save(\"final_model.h5\")\n",
    "model.save_weights(\"model_weights.h5\")\n",
    "# Collect results\n",
    "train_loss = model.history.history[\"loss\"]\n",
    "valid_loss = model.history.history[\"val_loss\"]\n",
    "train_acc = model.history.history[\"accuracy\"]\n",
    "valid_acc = model.history.history[\"val_accuracy\"]\n",
    "\n",
    "pred_final = model.predict(x_test)\n",
    "# Load back\n",
    "model = keras.models.load_model(\"./tmp.h5\")\n",
    "pred_loadback = model.predict(x_test)"
   ]
  },
  {
   "cell_type": "code",
   "execution_count": 8,
   "metadata": {},
   "outputs": [
    {
     "name": "stdout",
     "output_type": "stream",
     "text": [
      "Accuracy of final weights: 0.494\n",
      "Accuracy of best weights: 0.496\n"
     ]
    }
   ],
   "source": [
    "from sklearn.metrics import accuracy_score\n",
    "\n",
    "final_model_acc = accuracy_score(y_true=y_test.argmax(axis=-1), y_pred=pred_final.argmax(axis=-1))\n",
    "loadback_acc = accuracy_score(y_true=y_test.argmax(axis=-1), y_pred=pred_loadback.argmax(axis=-1))\n",
    "\n",
    "print(\"Accuracy of final weights: %.3f\" % final_model_acc)\n",
    "print(\"Accuracy of best weights: %.3f\" % loadback_acc)"
   ]
  },
  {
   "cell_type": "code",
   "execution_count": 10,
   "metadata": {},
   "outputs": [
    {
     "name": "stdout",
     "output_type": "stream",
     "text": [
      "Accuracy of best weights: 0.095\n",
      "Accuracy of best weights: 0.496\n"
     ]
    }
   ],
   "source": [
    "new_model = build_mlp(input_shape=x_train.shape[1:])\n",
    "new_model_pred = new_model.predict(x_test)\n",
    "new_model_acc = accuracy_score(y_true=y_test.argmax(axis=-1), y_pred=new_model_pred.argmax(axis=-1))\n",
    "print(\"Accuracy of best weights: %.3f\" % new_model_acc)\n",
    "\n",
    "new_model = keras.models.load_model(\"./tmp.h5\")\n",
    "new_model_pred = new_model.predict(x_test)\n",
    "new_model_loadback_acc = accuracy_score(y_true=y_test.argmax(axis=-1), y_pred=new_model_pred.argmax(axis=-1))\n",
    "print(\"Accuracy of best weights: %.3f\" % new_model_loadback_acc)"
   ]
  },
  {
   "cell_type": "code",
   "execution_count": null,
   "metadata": {
    "scrolled": true
   },
   "outputs": [],
   "source": [
    "import matplotlib.pyplot as plt\n",
    "%matplotlib inline\n",
    "\"\"\"Code Here\n",
    "將結果繪出\n",
    "\"\"\""
   ]
  }
 ],
 "metadata": {
  "kernelspec": {
   "display_name": "tf-gpu",
   "language": "python",
   "name": "tf-gpu"
  },
  "language_info": {
   "codemirror_mode": {
    "name": "ipython",
    "version": 3
   },
   "file_extension": ".py",
   "mimetype": "text/x-python",
   "name": "python",
   "nbconvert_exporter": "python",
   "pygments_lexer": "ipython3",
   "version": "3.8.8"
  }
 },
 "nbformat": 4,
 "nbformat_minor": 4
}
