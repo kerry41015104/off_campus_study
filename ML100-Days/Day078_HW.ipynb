{
 "cells": [
  {
   "cell_type": "markdown",
   "metadata": {},
   "source": [
    "## Work\n",
    "1. 請嘗試將 preproc_x 替換成以每筆資料的 min/max 進行標準化至 -1 ~ 1 間，再進行訓練\n",
    "2. 請嘗試將 mlp 疊更深 (e.g 5~10 層)，進行訓練後觀察 learning curve 的走勢\n",
    "3. (optional) 請改用 GPU 進行訓練 (如果你有 GPU 的話)，比較使用 CPU 與 GPU 的訓練速度"
   ]
  },
  {
   "cell_type": "code",
   "execution_count": 1,
   "metadata": {},
   "outputs": [],
   "source": [
    "## \n",
    "\"\"\"\n",
    "Your code here (optional)\n",
    "確認硬體資源\n",
    "\"\"\"\n"
   ]
  },
  {
   "cell_type": "code",
   "execution_count": 1,
   "metadata": {},
   "outputs": [],
   "source": [
    "import os\n",
    "import keras\n",
    "\n",
    "# 請嘗試設定 GPU：os.environ\n",
    "os.environ[\"CUDA_VISIBLE_DEVICES\"] = \"0\""
   ]
  },
  {
   "cell_type": "code",
   "execution_count": 2,
   "metadata": {},
   "outputs": [],
   "source": [
    "train, test = keras.datasets.cifar10.load_data()"
   ]
  },
  {
   "cell_type": "code",
   "execution_count": 3,
   "metadata": {},
   "outputs": [],
   "source": [
    "## 資料前處理\n",
    "\"\"\"\n",
    "Your code here\n",
    "\"\"\"\n",
    "def preproc_x(x, flatten=True):\n",
    "    x = 2*(((x - x.min()) / (x.max() - x.min()))-0.5)\n",
    "    if flatten:\n",
    "        x = x.reshape((len(x), -1))\n",
    "    return x\n",
    "\n",
    "def preproc_y(y, num_classes=10):\n",
    "    if y.shape[-1] == 1:\n",
    "        y = keras.utils.to_categorical(y, num_classes)\n",
    "    return y   "
   ]
  },
  {
   "cell_type": "code",
   "execution_count": 12,
   "metadata": {},
   "outputs": [],
   "source": [
    "def preproc_x1(x, flatten=True):\n",
    "    x = x / 255.\n",
    "    if flatten:\n",
    "        x = x.reshape((len(x), -1))\n",
    "    return x\n",
    "\n",
    "def preproc_y1(y, num_classes=10):\n",
    "    if y.shape[-1] == 1:\n",
    "        y = keras.utils.to_categorical(y, num_classes)\n",
    "    return y"
   ]
  },
  {
   "cell_type": "code",
   "execution_count": 4,
   "metadata": {},
   "outputs": [],
   "source": [
    "x_train, y_train = train\n",
    "x_test, y_test = test\n",
    "\n",
    "# Preproc the inputs\n",
    "x_train = preproc_x(x_train)\n",
    "x_test = preproc_x(x_test)\n",
    "\n",
    "# Preprc the outputs\n",
    "y_train = preproc_y(y_train)\n",
    "y_test = preproc_y(y_test)"
   ]
  },
  {
   "cell_type": "code",
   "execution_count": 15,
   "metadata": {},
   "outputs": [
    {
     "name": "stdout",
     "output_type": "stream",
     "text": [
      "(50000, 3072)\n",
      "(50000, 10)\n"
     ]
    }
   ],
   "source": [
    "print(x_train.shape)\n",
    "print(y_train.shape)"
   ]
  },
  {
   "cell_type": "code",
   "execution_count": 13,
   "metadata": {},
   "outputs": [
    {
     "name": "stdout",
     "output_type": "stream",
     "text": [
      "(50000, 3072)\n",
      "(50000, 10)\n"
     ]
    }
   ],
   "source": [
    "print(x_train.shape)\n",
    "print(y_train.shape)"
   ]
  },
  {
   "cell_type": "code",
   "execution_count": 5,
   "metadata": {},
   "outputs": [
    {
     "name": "stdout",
     "output_type": "stream",
     "text": [
      "Model: \"model\"\n",
      "_________________________________________________________________\n",
      "Layer (type)                 Output Shape              Param #   \n",
      "=================================================================\n",
      "input_1 (InputLayer)         [(None, 3072)]            0         \n",
      "_________________________________________________________________\n",
      "hidden_layer1 (Dense)        (None, 512)               1573376   \n",
      "_________________________________________________________________\n",
      "hidden_layer2 (Dense)        (None, 256)               131328    \n",
      "_________________________________________________________________\n",
      "hidden_layer3 (Dense)        (None, 128)               32896     \n",
      "_________________________________________________________________\n",
      "hidden_layer4 (Dense)        (None, 128)               16512     \n",
      "_________________________________________________________________\n",
      "hidden_layer5 (Dense)        (None, 128)               16512     \n",
      "_________________________________________________________________\n",
      "output (Dense)               (None, 10)                1290      \n",
      "=================================================================\n",
      "Total params: 1,771,914\n",
      "Trainable params: 1,771,914\n",
      "Non-trainable params: 0\n",
      "_________________________________________________________________\n"
     ]
    }
   ],
   "source": [
    "\"\"\"Code Here\n",
    "建立你的神經網路\n",
    "\"\"\"\n",
    "def build_mlp(input_shape, output_units=10, num_neurons=[512, 256, 128, 128, 128]):\n",
    "    input_layer = keras.layers.Input(input_shape)\n",
    "    \n",
    "    for i, n_units in enumerate(num_neurons):\n",
    "        if i == 0:\n",
    "            x = keras.layers.Dense(units=n_units, activation=\"relu\", name=\"hidden_layer\"+str(i+1))(input_layer)\n",
    "        else:\n",
    "            x = keras.layers.Dense(units=n_units, activation=\"relu\", name=\"hidden_layer\"+str(i+1))(x)\n",
    "    \n",
    "    out = keras.layers.Dense(units=output_units, activation=\"softmax\", name=\"output\")(x)\n",
    "    \n",
    "    model = keras.models.Model(inputs=[input_layer], outputs=[out])\n",
    "    return model\n",
    "model = build_mlp(input_shape=x_train.shape[1:])\n",
    "model.summary()"
   ]
  },
  {
   "cell_type": "code",
   "execution_count": 6,
   "metadata": {},
   "outputs": [],
   "source": [
    "## 超參數設定\n",
    "LEARNING_RATE = 0.001\n",
    "EPOCHS = 100\n",
    "BATCH_SIZE = 256"
   ]
  },
  {
   "cell_type": "code",
   "execution_count": 7,
   "metadata": {},
   "outputs": [],
   "source": [
    "optimizer = keras.optimizers.Adam(lr=LEARNING_RATE)\n",
    "model.compile(loss=\"categorical_crossentropy\", metrics=[\"accuracy\"], optimizer=optimizer)"
   ]
  },
  {
   "cell_type": "code",
   "execution_count": 8,
   "metadata": {},
   "outputs": [
    {
     "name": "stdout",
     "output_type": "stream",
     "text": [
      "Epoch 1/100\n",
      "196/196 [==============================] - 7s 19ms/step - loss: 1.8278 - accuracy: 0.3415 - val_loss: 1.5444 - val_accuracy: 0.4471\n",
      "Epoch 2/100\n",
      "196/196 [==============================] - 2s 9ms/step - loss: 1.4865 - accuracy: 0.4768 - val_loss: 1.4510 - val_accuracy: 0.4912\n",
      "Epoch 3/100\n",
      "196/196 [==============================] - 2s 9ms/step - loss: 1.3549 - accuracy: 0.5253 - val_loss: 1.4097 - val_accuracy: 0.5062\n",
      "Epoch 4/100\n",
      "196/196 [==============================] - 2s 9ms/step - loss: 1.2508 - accuracy: 0.5616 - val_loss: 1.3660 - val_accuracy: 0.5228\n",
      "Epoch 5/100\n",
      "196/196 [==============================] - 2s 9ms/step - loss: 1.1652 - accuracy: 0.5908 - val_loss: 1.4107 - val_accuracy: 0.5132\n",
      "Epoch 6/100\n",
      "196/196 [==============================] - 2s 9ms/step - loss: 1.1053 - accuracy: 0.6092 - val_loss: 1.3919 - val_accuracy: 0.5259\n",
      "Epoch 7/100\n",
      "196/196 [==============================] - 2s 8ms/step - loss: 1.0120 - accuracy: 0.6413 - val_loss: 1.3606 - val_accuracy: 0.5340\n",
      "Epoch 8/100\n",
      "196/196 [==============================] - 2s 8ms/step - loss: 0.9425 - accuracy: 0.6643 - val_loss: 1.4300 - val_accuracy: 0.5317\n",
      "Epoch 9/100\n",
      "196/196 [==============================] - 2s 8ms/step - loss: 0.8698 - accuracy: 0.6913 - val_loss: 1.4648 - val_accuracy: 0.5286\n",
      "Epoch 10/100\n",
      "196/196 [==============================] - 2s 8ms/step - loss: 0.7942 - accuracy: 0.7196 - val_loss: 1.4931 - val_accuracy: 0.5268\n",
      "Epoch 11/100\n",
      "196/196 [==============================] - 2s 8ms/step - loss: 0.7319 - accuracy: 0.7403 - val_loss: 1.5777 - val_accuracy: 0.5280\n",
      "Epoch 12/100\n",
      "196/196 [==============================] - 2s 9ms/step - loss: 0.6790 - accuracy: 0.7573 - val_loss: 1.5500 - val_accuracy: 0.5342\n",
      "Epoch 13/100\n",
      "196/196 [==============================] - 2s 9ms/step - loss: 0.6070 - accuracy: 0.7845 - val_loss: 1.6439 - val_accuracy: 0.5300\n",
      "Epoch 14/100\n",
      "196/196 [==============================] - 2s 9ms/step - loss: 0.5610 - accuracy: 0.8020 - val_loss: 1.7914 - val_accuracy: 0.5274\n",
      "Epoch 15/100\n",
      "196/196 [==============================] - 2s 9ms/step - loss: 0.5169 - accuracy: 0.8186 - val_loss: 1.8318 - val_accuracy: 0.5176\n",
      "Epoch 16/100\n",
      "196/196 [==============================] - 2s 9ms/step - loss: 0.4652 - accuracy: 0.8353 - val_loss: 1.9491 - val_accuracy: 0.5282\n",
      "Epoch 17/100\n",
      "196/196 [==============================] - 2s 9ms/step - loss: 0.4253 - accuracy: 0.8491 - val_loss: 2.0418 - val_accuracy: 0.5320\n",
      "Epoch 18/100\n",
      "196/196 [==============================] - 2s 8ms/step - loss: 0.3938 - accuracy: 0.8621 - val_loss: 2.1794 - val_accuracy: 0.5229\n",
      "Epoch 19/100\n",
      "196/196 [==============================] - 2s 9ms/step - loss: 0.3667 - accuracy: 0.8704 - val_loss: 2.2365 - val_accuracy: 0.5279\n",
      "Epoch 20/100\n",
      "196/196 [==============================] - 2s 8ms/step - loss: 0.3296 - accuracy: 0.8831 - val_loss: 2.2715 - val_accuracy: 0.5247\n",
      "Epoch 21/100\n",
      "196/196 [==============================] - 2s 9ms/step - loss: 0.3120 - accuracy: 0.8916 - val_loss: 2.3988 - val_accuracy: 0.5179\n",
      "Epoch 22/100\n",
      "196/196 [==============================] - 2s 11ms/step - loss: 0.2994 - accuracy: 0.8944 - val_loss: 2.6297 - val_accuracy: 0.5238\n",
      "Epoch 23/100\n",
      "196/196 [==============================] - 2s 12ms/step - loss: 0.2866 - accuracy: 0.8991 - val_loss: 2.6379 - val_accuracy: 0.5263\n",
      "Epoch 24/100\n",
      "196/196 [==============================] - 2s 10ms/step - loss: 0.2500 - accuracy: 0.9128 - val_loss: 2.5850 - val_accuracy: 0.5215\n",
      "Epoch 25/100\n",
      "196/196 [==============================] - 2s 9ms/step - loss: 0.2473 - accuracy: 0.9129 - val_loss: 2.8986 - val_accuracy: 0.5160\n",
      "Epoch 26/100\n",
      "196/196 [==============================] - 2s 10ms/step - loss: 0.2445 - accuracy: 0.9176 - val_loss: 2.7135 - val_accuracy: 0.5287\n",
      "Epoch 27/100\n",
      "196/196 [==============================] - 2s 9ms/step - loss: 0.2234 - accuracy: 0.9234 - val_loss: 2.9207 - val_accuracy: 0.5256\n",
      "Epoch 28/100\n",
      "196/196 [==============================] - 2s 8ms/step - loss: 0.2050 - accuracy: 0.9283 - val_loss: 2.8957 - val_accuracy: 0.5179\n",
      "Epoch 29/100\n",
      "196/196 [==============================] - 2s 8ms/step - loss: 0.2117 - accuracy: 0.9273 - val_loss: 3.0405 - val_accuracy: 0.5222\n",
      "Epoch 30/100\n",
      "196/196 [==============================] - 2s 8ms/step - loss: 0.1956 - accuracy: 0.9337 - val_loss: 3.0768 - val_accuracy: 0.5167\n",
      "Epoch 31/100\n",
      "196/196 [==============================] - 2s 8ms/step - loss: 0.2056 - accuracy: 0.9307 - val_loss: 3.0226 - val_accuracy: 0.5225\n",
      "Epoch 32/100\n",
      "196/196 [==============================] - 2s 8ms/step - loss: 0.1692 - accuracy: 0.9418 - val_loss: 3.1374 - val_accuracy: 0.5204\n",
      "Epoch 33/100\n",
      "196/196 [==============================] - 2s 8ms/step - loss: 0.1808 - accuracy: 0.9386 - val_loss: 3.0931 - val_accuracy: 0.5265\n",
      "Epoch 34/100\n",
      "196/196 [==============================] - 2s 8ms/step - loss: 0.1522 - accuracy: 0.9483 - val_loss: 3.4149 - val_accuracy: 0.5247\n",
      "Epoch 35/100\n",
      "196/196 [==============================] - 2s 8ms/step - loss: 0.1595 - accuracy: 0.9460 - val_loss: 3.2291 - val_accuracy: 0.5212\n",
      "Epoch 36/100\n",
      "196/196 [==============================] - 2s 8ms/step - loss: 0.1499 - accuracy: 0.9502 - val_loss: 3.3917 - val_accuracy: 0.5198\n",
      "Epoch 37/100\n",
      "196/196 [==============================] - 2s 8ms/step - loss: 0.1523 - accuracy: 0.9479 - val_loss: 3.5213 - val_accuracy: 0.5179\n",
      "Epoch 38/100\n",
      "196/196 [==============================] - 2s 9ms/step - loss: 0.1565 - accuracy: 0.9474 - val_loss: 3.4378 - val_accuracy: 0.5235\n",
      "Epoch 39/100\n",
      "196/196 [==============================] - 2s 10ms/step - loss: 0.1420 - accuracy: 0.9514 - val_loss: 3.5782 - val_accuracy: 0.5179\n",
      "Epoch 40/100\n",
      "196/196 [==============================] - 2s 9ms/step - loss: 0.1692 - accuracy: 0.9425 - val_loss: 3.6648 - val_accuracy: 0.5302\n",
      "Epoch 41/100\n",
      "196/196 [==============================] - 2s 8ms/step - loss: 0.1178 - accuracy: 0.9603 - val_loss: 3.5707 - val_accuracy: 0.5180\n",
      "Epoch 42/100\n",
      "196/196 [==============================] - 2s 9ms/step - loss: 0.1594 - accuracy: 0.9472 - val_loss: 3.5912 - val_accuracy: 0.5269\n",
      "Epoch 43/100\n",
      "196/196 [==============================] - 2s 9ms/step - loss: 0.1283 - accuracy: 0.9564 - val_loss: 3.6500 - val_accuracy: 0.5240\n",
      "Epoch 44/100\n",
      "196/196 [==============================] - 2s 8ms/step - loss: 0.1385 - accuracy: 0.9532 - val_loss: 3.7673 - val_accuracy: 0.5229\n",
      "Epoch 45/100\n",
      "196/196 [==============================] - 2s 9ms/step - loss: 0.1454 - accuracy: 0.9521 - val_loss: 3.9592 - val_accuracy: 0.5180\n",
      "Epoch 46/100\n",
      "196/196 [==============================] - 2s 9ms/step - loss: 0.1468 - accuracy: 0.9507 - val_loss: 3.7953 - val_accuracy: 0.5206\n",
      "Epoch 47/100\n",
      "196/196 [==============================] - 2s 9ms/step - loss: 0.1141 - accuracy: 0.9608 - val_loss: 3.8009 - val_accuracy: 0.5271\n",
      "Epoch 48/100\n",
      "196/196 [==============================] - 2s 9ms/step - loss: 0.1250 - accuracy: 0.9587 - val_loss: 3.7900 - val_accuracy: 0.5195\n",
      "Epoch 49/100\n",
      "196/196 [==============================] - 2s 9ms/step - loss: 0.1383 - accuracy: 0.9538 - val_loss: 3.9393 - val_accuracy: 0.5181\n",
      "Epoch 50/100\n",
      "196/196 [==============================] - 2s 9ms/step - loss: 0.1106 - accuracy: 0.9629 - val_loss: 3.9890 - val_accuracy: 0.5259\n",
      "Epoch 51/100\n",
      "196/196 [==============================] - 2s 8ms/step - loss: 0.1084 - accuracy: 0.9632 - val_loss: 3.7748 - val_accuracy: 0.5282\n",
      "Epoch 52/100\n",
      "196/196 [==============================] - 2s 9ms/step - loss: 0.1015 - accuracy: 0.9657 - val_loss: 3.9670 - val_accuracy: 0.5328\n",
      "Epoch 53/100\n",
      "196/196 [==============================] - 2s 8ms/step - loss: 0.1207 - accuracy: 0.9585 - val_loss: 3.7740 - val_accuracy: 0.5235\n",
      "Epoch 54/100\n",
      "196/196 [==============================] - 2s 10ms/step - loss: 0.1054 - accuracy: 0.9656 - val_loss: 4.1704 - val_accuracy: 0.5202\n",
      "Epoch 55/100\n",
      "196/196 [==============================] - 2s 10ms/step - loss: 0.1027 - accuracy: 0.9657 - val_loss: 3.9161 - val_accuracy: 0.5222\n",
      "Epoch 56/100\n",
      "196/196 [==============================] - 2s 9ms/step - loss: 0.1188 - accuracy: 0.9597 - val_loss: 4.1268 - val_accuracy: 0.5286\n",
      "Epoch 57/100\n",
      "196/196 [==============================] - 2s 9ms/step - loss: 0.0861 - accuracy: 0.9724 - val_loss: 4.2051 - val_accuracy: 0.5267\n",
      "Epoch 58/100\n",
      "196/196 [==============================] - 2s 9ms/step - loss: 0.1347 - accuracy: 0.9573 - val_loss: 4.0230 - val_accuracy: 0.5252\n",
      "Epoch 59/100\n",
      "196/196 [==============================] - 2s 9ms/step - loss: 0.0944 - accuracy: 0.9681 - val_loss: 4.1375 - val_accuracy: 0.5166\n",
      "Epoch 60/100\n",
      "196/196 [==============================] - 2s 9ms/step - loss: 0.1301 - accuracy: 0.9582 - val_loss: 3.9773 - val_accuracy: 0.5293\n",
      "Epoch 61/100\n",
      "196/196 [==============================] - 2s 8ms/step - loss: 0.1208 - accuracy: 0.9606 - val_loss: 4.0081 - val_accuracy: 0.5256\n",
      "Epoch 62/100\n",
      "196/196 [==============================] - 2s 9ms/step - loss: 0.0844 - accuracy: 0.9730 - val_loss: 4.1544 - val_accuracy: 0.5180\n",
      "Epoch 63/100\n",
      "196/196 [==============================] - 2s 8ms/step - loss: 0.1080 - accuracy: 0.9659 - val_loss: 4.0542 - val_accuracy: 0.5212\n",
      "Epoch 64/100\n",
      "196/196 [==============================] - 2s 10ms/step - loss: 0.1000 - accuracy: 0.9685 - val_loss: 4.2355 - val_accuracy: 0.5208\n",
      "Epoch 65/100\n",
      "196/196 [==============================] - 2s 9ms/step - loss: 0.0830 - accuracy: 0.9734 - val_loss: 4.3648 - val_accuracy: 0.5268\n",
      "Epoch 66/100\n",
      "196/196 [==============================] - 2s 9ms/step - loss: 0.0986 - accuracy: 0.9689 - val_loss: 4.2825 - val_accuracy: 0.5296\n",
      "Epoch 67/100\n",
      "196/196 [==============================] - 2s 9ms/step - loss: 0.0846 - accuracy: 0.9724 - val_loss: 4.2308 - val_accuracy: 0.5269\n",
      "Epoch 68/100\n",
      "196/196 [==============================] - 2s 9ms/step - loss: 0.0892 - accuracy: 0.9711 - val_loss: 4.4490 - val_accuracy: 0.5285\n",
      "Epoch 69/100\n",
      "196/196 [==============================] - 2s 9ms/step - loss: 0.0911 - accuracy: 0.9702 - val_loss: 4.0676 - val_accuracy: 0.5287\n",
      "Epoch 70/100\n",
      "196/196 [==============================] - 2s 8ms/step - loss: 0.0955 - accuracy: 0.9691 - val_loss: 4.1584 - val_accuracy: 0.5209\n",
      "Epoch 71/100\n",
      "196/196 [==============================] - 2s 8ms/step - loss: 0.1034 - accuracy: 0.9672 - val_loss: 4.2417 - val_accuracy: 0.5199\n",
      "Epoch 72/100\n",
      "196/196 [==============================] - 2s 8ms/step - loss: 0.0704 - accuracy: 0.9774 - val_loss: 4.3875 - val_accuracy: 0.5294\n",
      "Epoch 73/100\n",
      "196/196 [==============================] - 2s 8ms/step - loss: 0.0886 - accuracy: 0.9706 - val_loss: 4.1712 - val_accuracy: 0.5188\n",
      "Epoch 74/100\n",
      "196/196 [==============================] - 2s 9ms/step - loss: 0.0925 - accuracy: 0.9703 - val_loss: 4.2780 - val_accuracy: 0.5249\n",
      "Epoch 75/100\n",
      "196/196 [==============================] - 2s 8ms/step - loss: 0.0795 - accuracy: 0.9734 - val_loss: 4.1440 - val_accuracy: 0.5312\n",
      "Epoch 76/100\n",
      "196/196 [==============================] - 2s 8ms/step - loss: 0.0743 - accuracy: 0.9745 - val_loss: 4.2718 - val_accuracy: 0.5255\n",
      "Epoch 77/100\n",
      "196/196 [==============================] - 2s 9ms/step - loss: 0.0934 - accuracy: 0.9691 - val_loss: 4.2902 - val_accuracy: 0.5297\n",
      "Epoch 78/100\n",
      "196/196 [==============================] - 2s 8ms/step - loss: 0.0643 - accuracy: 0.9778 - val_loss: 4.4144 - val_accuracy: 0.5283\n",
      "Epoch 79/100\n",
      "196/196 [==============================] - 2s 9ms/step - loss: 0.0937 - accuracy: 0.9703 - val_loss: 4.1525 - val_accuracy: 0.5264\n",
      "Epoch 80/100\n",
      "196/196 [==============================] - 2s 8ms/step - loss: 0.0741 - accuracy: 0.9763 - val_loss: 4.3473 - val_accuracy: 0.5329\n",
      "Epoch 81/100\n",
      "196/196 [==============================] - 2s 9ms/step - loss: 0.0679 - accuracy: 0.9791 - val_loss: 4.5091 - val_accuracy: 0.5282\n",
      "Epoch 82/100\n",
      "196/196 [==============================] - 2s 9ms/step - loss: 0.0847 - accuracy: 0.9730 - val_loss: 4.1965 - val_accuracy: 0.5287\n",
      "Epoch 83/100\n",
      "196/196 [==============================] - 2s 9ms/step - loss: 0.0701 - accuracy: 0.9764 - val_loss: 4.3614 - val_accuracy: 0.5283\n",
      "Epoch 84/100\n",
      "196/196 [==============================] - 2s 9ms/step - loss: 0.0714 - accuracy: 0.9766 - val_loss: 4.3563 - val_accuracy: 0.5344\n",
      "Epoch 85/100\n",
      "196/196 [==============================] - 2s 9ms/step - loss: 0.0598 - accuracy: 0.9804 - val_loss: 4.4142 - val_accuracy: 0.5211\n",
      "Epoch 86/100\n",
      "196/196 [==============================] - 2s 8ms/step - loss: 0.0901 - accuracy: 0.9712 - val_loss: 4.6048 - val_accuracy: 0.5293\n",
      "Epoch 87/100\n",
      "196/196 [==============================] - 2s 8ms/step - loss: 0.0657 - accuracy: 0.9785 - val_loss: 4.4010 - val_accuracy: 0.5209\n",
      "Epoch 88/100\n",
      "196/196 [==============================] - 2s 8ms/step - loss: 0.0935 - accuracy: 0.9715 - val_loss: 4.2485 - val_accuracy: 0.5297\n",
      "Epoch 89/100\n",
      "196/196 [==============================] - 2s 9ms/step - loss: 0.0530 - accuracy: 0.9820 - val_loss: 4.5198 - val_accuracy: 0.5318\n",
      "Epoch 90/100\n",
      "196/196 [==============================] - 2s 9ms/step - loss: 0.0718 - accuracy: 0.9766 - val_loss: 4.5063 - val_accuracy: 0.5244\n",
      "Epoch 91/100\n",
      "196/196 [==============================] - 2s 8ms/step - loss: 0.0793 - accuracy: 0.9747 - val_loss: 4.3412 - val_accuracy: 0.5350\n",
      "Epoch 92/100\n",
      "196/196 [==============================] - 2s 8ms/step - loss: 0.0713 - accuracy: 0.9768 - val_loss: 4.5564 - val_accuracy: 0.5265\n",
      "Epoch 93/100\n",
      "196/196 [==============================] - 2s 8ms/step - loss: 0.1017 - accuracy: 0.9682 - val_loss: 4.4385 - val_accuracy: 0.5285\n",
      "Epoch 94/100\n",
      "196/196 [==============================] - 2s 8ms/step - loss: 0.0597 - accuracy: 0.9804 - val_loss: 4.6678 - val_accuracy: 0.5270\n",
      "Epoch 95/100\n",
      "196/196 [==============================] - 2s 8ms/step - loss: 0.0673 - accuracy: 0.9796 - val_loss: 4.6296 - val_accuracy: 0.5243\n",
      "Epoch 96/100\n",
      "196/196 [==============================] - 2s 8ms/step - loss: 0.0736 - accuracy: 0.9773 - val_loss: 4.3253 - val_accuracy: 0.5291\n",
      "Epoch 97/100\n",
      "196/196 [==============================] - 2s 9ms/step - loss: 0.0550 - accuracy: 0.9819 - val_loss: 4.5255 - val_accuracy: 0.5241\n",
      "Epoch 98/100\n",
      "196/196 [==============================] - 2s 8ms/step - loss: 0.0535 - accuracy: 0.9820 - val_loss: 4.6872 - val_accuracy: 0.5242\n",
      "Epoch 99/100\n",
      "196/196 [==============================] - 2s 8ms/step - loss: 0.0584 - accuracy: 0.9822 - val_loss: 4.4201 - val_accuracy: 0.5268\n",
      "Epoch 100/100\n",
      "196/196 [==============================] - 2s 8ms/step - loss: 0.0809 - accuracy: 0.9747 - val_loss: 4.4837 - val_accuracy: 0.5334\n"
     ]
    },
    {
     "data": {
      "text/plain": [
       "<tensorflow.python.keras.callbacks.History at 0x1c071341670>"
      ]
     },
     "execution_count": 8,
     "metadata": {},
     "output_type": "execute_result"
    }
   ],
   "source": [
    "model.fit(x_train, y_train, \n",
    "          epochs=EPOCHS, \n",
    "          batch_size=BATCH_SIZE, \n",
    "          validation_data=(x_test, y_test), \n",
    "          shuffle=True)"
   ]
  },
  {
   "cell_type": "code",
   "execution_count": 9,
   "metadata": {},
   "outputs": [
    {
     "data": {
      "image/png": "[encoded data removed]",
      "text/plain": [
       "<Figure size 432x288 with 1 Axes>"
      ]
     },
     "metadata": {
      "needs_background": "light"
     },
     "output_type": "display_data"
    },
    {
     "data": {
      "image/png": "[encoded data removed]",
      "text/plain": [
       "<Figure size 432x288 with 1 Axes>"
      ]
     },
     "metadata": {
      "needs_background": "light"
     },
     "output_type": "display_data"
    }
   ],
   "source": [
    "import matplotlib.pyplot as plt\n",
    "\n",
    "\n",
    "train_loss = model.history.history[\"loss\"]\n",
    "valid_loss = model.history.history[\"val_loss\"]\n",
    "\n",
    "train_acc = model.history.history[\"accuracy\"]\n",
    "valid_acc = model.history.history[\"val_accuracy\"]\n",
    "\n",
    "plt.plot(range(len(train_loss)), train_loss, label=\"train loss\")\n",
    "plt.plot(range(len(valid_loss)), valid_loss, label=\"valid loss\")\n",
    "plt.legend()\n",
    "plt.title(\"Loss\")\n",
    "plt.show()\n",
    "\n",
    "plt.plot(range(len(train_acc)), train_acc, label=\"train accuracy\")\n",
    "plt.plot(range(len(valid_acc)), valid_acc, label=\"valid accuracy\")\n",
    "plt.legend()\n",
    "plt.title(\"Accuracy\")\n",
    "plt.show()"
   ]
  }
 ],
 "metadata": {
  "kernelspec": {
   "display_name": "tf-gpu",
   "language": "python",
   "name": "tf-gpu"
  },
  "language_info": {
   "codemirror_mode": {
    "name": "ipython",
    "version": 3
   },
   "file_extension": ".py",
   "mimetype": "text/x-python",
   "name": "python",
   "nbconvert_exporter": "python",
   "pygments_lexer": "ipython3",
   "version": "3.8.8"
  }
 },
 "nbformat": 4,
 "nbformat_minor": 4
}
