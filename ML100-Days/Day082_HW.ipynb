{
 "cells": [
  {
   "cell_type": "markdown",
   "metadata": {},
   "source": [
    "## Work\n",
    "1. 請比較使用不同層數以及不同 Dropout rate 對訓練的效果\n",
    "2. 將 optimizer 改成使用 Adam 並加上適當的 dropout rate 檢視結果"
   ]
  },
  {
   "cell_type": "code",
   "execution_count": 1,
   "metadata": {},
   "outputs": [],
   "source": [
    "import os\n",
    "import keras\n",
    "import itertools\n",
    "# Disable GPU\n",
    "#os.environ[\"CUDA_VISIBLE_DEVICES\"] = \"\""
   ]
  },
  {
   "cell_type": "code",
   "execution_count": 2,
   "metadata": {},
   "outputs": [],
   "source": [
    "train, test = keras.datasets.cifar10.load_data()"
   ]
  },
  {
   "cell_type": "code",
   "execution_count": 3,
   "metadata": {},
   "outputs": [],
   "source": [
    "## 資料前處理\n",
    "def preproc_x(x, flatten=True):\n",
    "    x = x / 255.\n",
    "    if flatten:\n",
    "        x = x.reshape((len(x), -1))\n",
    "    return x\n",
    "\n",
    "def preproc_y(y, num_classes=10):\n",
    "    if y.shape[-1] == 1:\n",
    "        y = keras.utils.to_categorical(y, num_classes)\n",
    "    return y    "
   ]
  },
  {
   "cell_type": "code",
   "execution_count": 4,
   "metadata": {},
   "outputs": [],
   "source": [
    "x_train, y_train = train\n",
    "x_test, y_test = test\n",
    "\n",
    "# Preproc the inputs\n",
    "x_train = preproc_x(x_train)\n",
    "x_test = preproc_x(x_test)\n",
    "\n",
    "# Preprc the outputs\n",
    "y_train = preproc_y(y_train)\n",
    "y_test = preproc_y(y_test)"
   ]
  },
  {
   "cell_type": "code",
   "execution_count": 5,
   "metadata": {},
   "outputs": [],
   "source": [
    "from keras.layers import Dropout\n",
    "\n",
    "\"\"\"\n",
    "建立神經網路，並加入 dropout layer\n",
    "\"\"\"\n",
    "def build_mlp(input_shape, output_units=10, num_neurons=[512, 256, 128], drp_ratio=0.15):\n",
    "    input_layer = keras.layers.Input(input_shape)\n",
    "    \n",
    "    for i, n_units in enumerate(num_neurons):\n",
    "        if i == 0:\n",
    "            x = keras.layers.Dense(units=n_units, \n",
    "                                   activation=\"relu\", \n",
    "                                   name=\"hidden_layer\"+str(i+1))(input_layer)\n",
    "            x = Dropout(drp_ratio)(x)\n",
    "        else:\n",
    "            x = keras.layers.Dense(units=n_units, \n",
    "                                   activation=\"relu\", \n",
    "                                   name=\"hidden_layer\"+str(i+1))(x)\n",
    "            x = Dropout(drp_ratio)(x)\n",
    "    \n",
    "    out = keras.layers.Dense(units=output_units, activation=\"softmax\", name=\"output\")(x)\n",
    "    \n",
    "    model = keras.models.Model(inputs=[input_layer], outputs=[out])\n",
    "    return model"
   ]
  },
  {
   "cell_type": "code",
   "execution_count": 6,
   "metadata": {},
   "outputs": [],
   "source": [
    "\"\"\"Code Here\n",
    "設定超參數\n",
    "\"\"\"\n",
    "LEARNING_RATE = 1e-3\n",
    "EPOCHS = 30\n",
    "BATCH_SIZE = 256\n",
    "MOMENTUM = 0.95\n",
    "Dropout_EXP = 0.25"
   ]
  },
  {
   "cell_type": "code",
   "execution_count": 7,
   "metadata": {
    "scrolled": true
   },
   "outputs": [
    {
     "name": "stdout",
     "output_type": "stream",
     "text": [
      "Model: \"model\"\n",
      "_________________________________________________________________\n",
      "Layer (type)                 Output Shape              Param #   \n",
      "=================================================================\n",
      "input_1 (InputLayer)         [(None, 3072)]            0         \n",
      "_________________________________________________________________\n",
      "hidden_layer1 (Dense)        (None, 512)               1573376   \n",
      "_________________________________________________________________\n",
      "dropout (Dropout)            (None, 512)               0         \n",
      "_________________________________________________________________\n",
      "hidden_layer2 (Dense)        (None, 256)               131328    \n",
      "_________________________________________________________________\n",
      "dropout_1 (Dropout)          (None, 256)               0         \n",
      "_________________________________________________________________\n",
      "hidden_layer3 (Dense)        (None, 128)               32896     \n",
      "_________________________________________________________________\n",
      "dropout_2 (Dropout)          (None, 128)               0         \n",
      "_________________________________________________________________\n",
      "output (Dense)               (None, 10)                1290      \n",
      "=================================================================\n",
      "Total params: 1,738,890\n",
      "Trainable params: 1,738,890\n",
      "Non-trainable params: 0\n",
      "_________________________________________________________________\n",
      "Epoch 1/30\n",
      "196/196 [==============================] - 6s 19ms/step - loss: 2.1845 - accuracy: 0.1904 - val_loss: 1.8242 - val_accuracy: 0.3384\n",
      "Epoch 2/30\n",
      "196/196 [==============================] - 2s 10ms/step - loss: 1.8925 - accuracy: 0.3119 - val_loss: 1.7558 - val_accuracy: 0.3698\n",
      "Epoch 3/30\n",
      "196/196 [==============================] - 2s 9ms/step - loss: 1.8298 - accuracy: 0.3350 - val_loss: 1.7115 - val_accuracy: 0.3989\n",
      "Epoch 4/30\n",
      "196/196 [==============================] - 2s 9ms/step - loss: 1.7920 - accuracy: 0.3485 - val_loss: 1.6944 - val_accuracy: 0.3959\n",
      "Epoch 5/30\n",
      "196/196 [==============================] - 2s 10ms/step - loss: 1.7606 - accuracy: 0.3678 - val_loss: 1.6634 - val_accuracy: 0.4162\n",
      "Epoch 6/30\n",
      "196/196 [==============================] - 2s 9ms/step - loss: 1.7326 - accuracy: 0.3760 - val_loss: 1.6632 - val_accuracy: 0.4221\n",
      "Epoch 7/30\n",
      "196/196 [==============================] - 2s 9ms/step - loss: 1.7167 - accuracy: 0.3798 - val_loss: 1.6116 - val_accuracy: 0.4328\n",
      "Epoch 8/30\n",
      "196/196 [==============================] - 2s 10ms/step - loss: 1.6850 - accuracy: 0.3911 - val_loss: 1.5911 - val_accuracy: 0.4423\n",
      "Epoch 9/30\n",
      "196/196 [==============================] - 2s 9ms/step - loss: 1.6737 - accuracy: 0.3976 - val_loss: 1.6035 - val_accuracy: 0.4445\n",
      "Epoch 10/30\n",
      "196/196 [==============================] - 2s 8ms/step - loss: 1.6679 - accuracy: 0.4007 - val_loss: 1.5776 - val_accuracy: 0.4415\n",
      "Epoch 11/30\n",
      "196/196 [==============================] - 2s 8ms/step - loss: 1.6500 - accuracy: 0.4079 - val_loss: 1.5748 - val_accuracy: 0.4461\n",
      "Epoch 12/30\n",
      "196/196 [==============================] - 2s 8ms/step - loss: 1.6368 - accuracy: 0.4097 - val_loss: 1.5757 - val_accuracy: 0.4376\n",
      "Epoch 13/30\n",
      "196/196 [==============================] - 2s 8ms/step - loss: 1.6409 - accuracy: 0.4046 - val_loss: 1.5473 - val_accuracy: 0.4505\n",
      "Epoch 14/30\n",
      "196/196 [==============================] - 2s 8ms/step - loss: 1.6219 - accuracy: 0.4140 - val_loss: 1.5474 - val_accuracy: 0.4584\n",
      "Epoch 15/30\n",
      "196/196 [==============================] - 2s 9ms/step - loss: 1.6032 - accuracy: 0.4205 - val_loss: 1.5777 - val_accuracy: 0.4448\n",
      "Epoch 16/30\n",
      "196/196 [==============================] - 2s 9ms/step - loss: 1.6061 - accuracy: 0.4198 - val_loss: 1.5189 - val_accuracy: 0.4661\n",
      "Epoch 17/30\n",
      "196/196 [==============================] - 2s 8ms/step - loss: 1.6030 - accuracy: 0.4227 - val_loss: 1.5507 - val_accuracy: 0.4552\n",
      "Epoch 18/30\n",
      "196/196 [==============================] - 2s 8ms/step - loss: 1.5825 - accuracy: 0.4324 - val_loss: 1.5107 - val_accuracy: 0.4715\n",
      "Epoch 19/30\n",
      "196/196 [==============================] - 2s 8ms/step - loss: 1.5942 - accuracy: 0.4244 - val_loss: 1.5424 - val_accuracy: 0.4595\n",
      "Epoch 20/30\n",
      "196/196 [==============================] - 2s 8ms/step - loss: 1.5900 - accuracy: 0.4270 - val_loss: 1.5209 - val_accuracy: 0.4665\n",
      "Epoch 21/30\n",
      "196/196 [==============================] - 2s 8ms/step - loss: 1.5803 - accuracy: 0.4339 - val_loss: 1.5365 - val_accuracy: 0.4643\n",
      "Epoch 22/30\n",
      "196/196 [==============================] - 2s 8ms/step - loss: 1.5848 - accuracy: 0.4293 - val_loss: 1.5079 - val_accuracy: 0.4669\n",
      "Epoch 23/30\n",
      "196/196 [==============================] - 2s 8ms/step - loss: 1.5689 - accuracy: 0.4378 - val_loss: 1.5044 - val_accuracy: 0.4679\n",
      "Epoch 24/30\n",
      "196/196 [==============================] - 2s 8ms/step - loss: 1.5819 - accuracy: 0.4301 - val_loss: 1.4737 - val_accuracy: 0.4874\n",
      "Epoch 25/30\n",
      "196/196 [==============================] - 2s 8ms/step - loss: 1.5534 - accuracy: 0.4435 - val_loss: 1.4793 - val_accuracy: 0.4806\n",
      "Epoch 26/30\n",
      "196/196 [==============================] - 2s 8ms/step - loss: 1.5619 - accuracy: 0.4376 - val_loss: 1.5155 - val_accuracy: 0.4657\n",
      "Epoch 27/30\n",
      "196/196 [==============================] - 2s 8ms/step - loss: 1.5434 - accuracy: 0.4471 - val_loss: 1.4868 - val_accuracy: 0.4786\n",
      "Epoch 28/30\n",
      "196/196 [==============================] - 2s 9ms/step - loss: 1.5402 - accuracy: 0.4463 - val_loss: 1.4806 - val_accuracy: 0.4772\n",
      "Epoch 29/30\n",
      "196/196 [==============================] - 2s 8ms/step - loss: 1.5492 - accuracy: 0.4402 - val_loss: 1.4987 - val_accuracy: 0.4765\n",
      "Epoch 30/30\n",
      "196/196 [==============================] - 2s 8ms/step - loss: 1.5402 - accuracy: 0.4502 - val_loss: 1.4802 - val_accuracy: 0.4774\n"
     ]
    }
   ],
   "source": [
    "results = {}\n",
    "\"\"\"Code Here\n",
    "撰寫你的訓練流程並將結果用 dictionary 紀錄\n",
    "\"\"\"\n",
    "model = build_mlp(input_shape=x_train.shape[1:], drp_ratio=Dropout_EXP)\n",
    "model.summary()\n",
    "optimizer = keras.optimizers.Adam(lr=LEARNING_RATE)\n",
    "model.compile(loss=\"categorical_crossentropy\", metrics=[\"accuracy\"], optimizer=optimizer)\n",
    "\n",
    "model.fit(x_train, y_train, \n",
    "          epochs=EPOCHS, \n",
    "          batch_size=BATCH_SIZE, \n",
    "          validation_data=(x_test, y_test), \n",
    "          shuffle=True)\n",
    "\n",
    "# Collect results\n",
    "train_loss = model.history.history[\"loss\"]\n",
    "valid_loss = model.history.history[\"val_loss\"]\n",
    "train_acc = model.history.history[\"accuracy\"]\n",
    "valid_acc = model.history.history[\"val_accuracy\"]"
   ]
  },
  {
   "cell_type": "code",
   "execution_count": 8,
   "metadata": {},
   "outputs": [
    {
     "data": {
      "image/png": "[encoded data removed]",
      "text/plain": [
       "<Figure size 432x288 with 1 Axes>"
      ]
     },
     "metadata": {
      "needs_background": "light"
     },
     "output_type": "display_data"
    },
    {
     "data": {
      "image/png": "[encoded data removed]",
      "text/plain": [
       "<Figure size 432x288 with 1 Axes>"
      ]
     },
     "metadata": {
      "needs_background": "light"
     },
     "output_type": "display_data"
    }
   ],
   "source": [
    "import matplotlib.pyplot as plt\n",
    "%matplotlib inline\n",
    "\n",
    "plt.plot(range(len(train_loss)), train_loss, label=\"train loss\")\n",
    "plt.plot(range(len(valid_loss)), valid_loss, label=\"valid loss\")\n",
    "plt.legend()\n",
    "plt.title(\"Loss\")\n",
    "plt.show()\n",
    "\n",
    "plt.plot(range(len(train_acc)), train_acc, label=\"train accuracy\")\n",
    "plt.plot(range(len(valid_acc)), valid_acc, label=\"valid accuracy\")\n",
    "plt.legend()\n",
    "plt.title(\"Accuracy\")\n",
    "plt.show()"
   ]
  },
  {
   "cell_type": "code",
   "execution_count": null,
   "metadata": {},
   "outputs": [],
   "source": []
  },
  {
   "cell_type": "code",
   "execution_count": null,
   "metadata": {},
   "outputs": [],
   "source": []
  }
 ],
 "metadata": {
  "kernelspec": {
   "display_name": "tf-gpu",
   "language": "python",
   "name": "tf-gpu"
  },
  "language_info": {
   "codemirror_mode": {
    "name": "ipython",
    "version": 3
   },
   "file_extension": ".py",
   "mimetype": "text/x-python",
   "name": "python",
   "nbconvert_exporter": "python",
   "pygments_lexer": "ipython3",
   "version": "3.8.8"
  }
 },
 "nbformat": 4,
 "nbformat_minor": 4
}
